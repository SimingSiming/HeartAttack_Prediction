{
 "cells": [
  {
   "cell_type": "code",
   "execution_count": 27,
   "id": "69b19c6f-779f-46bf-bf61-4d75a5b3207a",
   "metadata": {},
   "outputs": [],
   "source": [
    "import pandas as pd \n",
    "df = pd.read_csv(\"/Users/lky/Desktop/PAII Project/HeartAttack_Prediction/standard_heartrate.csv\")\n",
    "X = df.drop(\"Heart Attack Risk\", axis = 1)\n",
    "y = df[\"Heart Attack Risk\"]"
   ]
  },
  {
   "cell_type": "code",
   "execution_count": 28,
   "id": "c1d4d74c-fc2d-40b6-917c-e7e61755403f",
   "metadata": {},
   "outputs": [],
   "source": [
    "X.drop(\"Unnamed: 0\", axis = 1, inplace = True)\n",
    "X.Sex =(X.Sex == \"Male\")"
   ]
  },
  {
   "cell_type": "markdown",
   "id": "10ed12da-1638-4abb-b7c0-a0635ea22bff",
   "metadata": {},
   "source": [
    "## This is for train test split"
   ]
  },
  {
   "cell_type": "code",
   "execution_count": 29,
   "id": "612327f7-1cd3-4dbf-a0b5-c791e3ec38ca",
   "metadata": {},
   "outputs": [],
   "source": [
    "from sklearn.model_selection import train_test_split\n",
    "X_train, X_test, y_train, y_test = train_test_split(X, y, test_size=0.2, random_state=42)"
   ]
  },
  {
   "cell_type": "code",
   "execution_count": 31,
   "id": "2243efc1",
   "metadata": {},
   "outputs": [],
   "source": [
    "# Applying SMOTE\n",
    "from imblearn.over_sampling import SMOTE\n",
    "smote = SMOTE(random_state=42)\n",
    "X_train_resampled, y_train_resampled = smote.fit_resample(X_train, y_train)"
   ]
  },
  {
   "cell_type": "code",
   "execution_count": 38,
   "id": "b20880c8",
   "metadata": {},
   "outputs": [
    {
     "data": {
      "text/plain": [
       "Heart Attack Risk\n",
       "0    4499\n",
       "1    2511\n",
       "Name: count, dtype: int64"
      ]
     },
     "execution_count": 38,
     "metadata": {},
     "output_type": "execute_result"
    }
   ],
   "source": [
    "y_train.value_counts()"
   ]
  },
  {
   "cell_type": "code",
   "execution_count": 37,
   "id": "a83fa628",
   "metadata": {},
   "outputs": [
    {
     "data": {
      "text/plain": [
       "Heart Attack Risk\n",
       "0    4499\n",
       "1    4499\n",
       "Name: count, dtype: int64"
      ]
     },
     "execution_count": 37,
     "metadata": {},
     "output_type": "execute_result"
    }
   ],
   "source": [
    "#the dataset now becomes balanced\n",
    "y_train_resampled.value_counts()"
   ]
  },
  {
   "cell_type": "markdown",
   "id": "af6b1bd1-0e12-44e1-8c7b-62b1c4ab79ce",
   "metadata": {},
   "source": [
    "## Logistics Regression"
   ]
  },
  {
   "cell_type": "code",
   "execution_count": 47,
   "id": "2e9f91e8",
   "metadata": {},
   "outputs": [
    {
     "name": "stdout",
     "output_type": "stream",
     "text": [
      "[[926 199]\n",
      " [515 113]]\n"
     ]
    },
    {
     "data": {
      "image/png": "[encoded data removed]",
      "text/plain": [
       "<Figure size 640x480 with 2 Axes>"
      ]
     },
     "metadata": {},
     "output_type": "display_data"
    }
   ],
   "source": [
    "from sklearn.linear_model import LogisticRegression\n",
    "from sklearn.metrics import confusion_matrix, ConfusionMatrixDisplay\n",
    "from sklearn.metrics import classification_report, accuracy_score\n",
    "import warnings\n",
    "warnings.filterwarnings('ignore')\n",
    "\n",
    "# Initialize the logistic regression model\n",
    "logreg = LogisticRegression(max_iter=1000)\n",
    "\n",
    "# Fit the model on the training data\n",
    "logreg.fit(X_train_resampled, y_train_resampled)\n",
    "\n",
    "# Perform predictions on the test set\n",
    "y_pred = logreg.predict(X_test)\n",
    "\n",
    "# Calculate confusion matrix\n",
    "cm = confusion_matrix(y_test, y_pred)\n",
    "\n",
    "# Print the confusion matrix\n",
    "print(cm)\n",
    "\n",
    "# For a nicer display\n",
    "ConfusionMatrixDisplay(cm).plot()\n",
    "import matplotlib.pyplot as plt\n",
    "plt.show()"
   ]
  },
  {
   "cell_type": "code",
   "execution_count": 49,
   "id": "c1b883e2",
   "metadata": {},
   "outputs": [
    {
     "name": "stdout",
     "output_type": "stream",
     "text": [
      "              precision    recall  f1-score   support\n",
      "\n",
      "           0       0.64      0.82      0.72      1125\n",
      "           1       0.36      0.18      0.24       628\n",
      "\n",
      "    accuracy                           0.59      1753\n",
      "   macro avg       0.50      0.50      0.48      1753\n",
      "weighted avg       0.54      0.59      0.55      1753\n",
      "\n",
      "Accuracy: 0.5926982316029663\n"
     ]
    }
   ],
   "source": [
    "# Evaluate the model\n",
    "print(classification_report(y_test, y_pred))\n",
    "print(\"Accuracy:\", accuracy_score(y_test, y_pred))"
   ]
  },
  {
   "cell_type": "markdown",
   "id": "b4bcec1b",
   "metadata": {},
   "source": [
    "## Fine tuning"
   ]
  },
  {
   "cell_type": "code",
   "execution_count": 50,
   "id": "f4d7052a",
   "metadata": {},
   "outputs": [
    {
     "data": {
      "text/plain": [
       "({'C': 100, 'solver': 'newton-cg'}, 0.6331767031066642)"
      ]
     },
     "execution_count": 50,
     "metadata": {},
     "output_type": "execute_result"
    }
   ],
   "source": [
    "from sklearn.model_selection import GridSearchCV\n",
    "\n",
    "# Define the parameter grid\n",
    "param_grid = {\n",
    "    'C': [0.001, 0.01, 0.1, 1, 10, 100],\n",
    "    'solver': ['newton-cg', 'lbfgs', 'liblinear']\n",
    "}\n",
    "\n",
    "# Initialize the GridSearchCV object\n",
    "grid_search = GridSearchCV(estimator=LogisticRegression(max_iter=1000), param_grid=param_grid, cv=5, scoring='accuracy')\n",
    "\n",
    "# Fit the grid search to the data\n",
    "grid_search.fit(X_train_resampled, y_train_resampled)\n",
    "\n",
    "# Extract the best parameters and score\n",
    "best_params = grid_search.best_params_\n",
    "best_score = grid_search.best_score_\n",
    "\n",
    "best_params, best_score"
   ]
  },
  {
   "cell_type": "markdown",
   "id": "214ff585-6794-4adf-af72-2f2151a45b9e",
   "metadata": {},
   "source": [
    "## Model Evaluation of Logistics Regression after Fine-tuning"
   ]
  },
  {
   "cell_type": "code",
   "execution_count": 51,
   "id": "fbf38ce6",
   "metadata": {},
   "outputs": [
    {
     "name": "stdout",
     "output_type": "stream",
     "text": [
      "[[948 177]\n",
      " [530  98]]\n"
     ]
    },
    {
     "data": {
      "image/png": "[encoded data removed]",
      "text/plain": [
       "<Figure size 640x480 with 2 Axes>"
      ]
     },
     "metadata": {},
     "output_type": "display_data"
    }
   ],
   "source": [
    "optimized_logreg = LogisticRegression(C=100, solver='newton-cg', max_iter=1000)\n",
    "optimized_logreg.fit(X_train_resampled, y_train_resampled)\n",
    "\n",
    "optimized_y_pred = optimized_logreg.predict(X_test)\n",
    "\n",
    "# Calculate confusion matrix\n",
    "cm = confusion_matrix(y_test, optimized_y_pred)\n",
    "\n",
    "# Print the confusion matrix\n",
    "print(cm)\n",
    "\n",
    "# For a nicer display\n",
    "ConfusionMatrixDisplay(cm).plot()\n",
    "import matplotlib.pyplot as plt\n",
    "plt.show()"
   ]
  },
  {
   "cell_type": "code",
   "execution_count": 54,
   "id": "0e55a387",
   "metadata": {},
   "outputs": [
    {
     "name": "stdout",
     "output_type": "stream",
     "text": [
      "              precision    recall  f1-score   support\n",
      "\n",
      "           0       0.64      0.84      0.73      1125\n",
      "           1       0.36      0.16      0.22       628\n",
      "\n",
      "    accuracy                           0.60      1753\n",
      "   macro avg       0.50      0.50      0.47      1753\n",
      "weighted avg       0.54      0.60      0.55      1753\n",
      "\n",
      "Accuracy: 0.5966913861950941\n"
     ]
    }
   ],
   "source": [
    "# Evaluate the model\n",
    "print(classification_report(y_test, optimized_y_pred))\n",
    "print(\"Accuracy:\", accuracy_score(y_test, optimized_y_pred))"
   ]
  }
 ],
 "metadata": {
  "kernelspec": {
   "display_name": "Python 3 (ipykernel)",
   "language": "python",
   "name": "python3"
  },
  "language_info": {
   "codemirror_mode": {
    "name": "ipython",
    "version": 3
   },
   "file_extension": ".py",
   "mimetype": "text/x-python",
   "name": "python",
   "nbconvert_exporter": "python",
   "pygments_lexer": "ipython3",
   "version": "3.11.5"
  }
 },
 "nbformat": 4,
 "nbformat_minor": 5
}
