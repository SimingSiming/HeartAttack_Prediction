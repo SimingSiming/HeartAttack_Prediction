{
 "cells": [
  {
   "cell_type": "code",
   "execution_count": 37,
   "id": "69b19c6f-779f-46bf-bf61-4d75a5b3207a",
   "metadata": {},
   "outputs": [],
   "source": [
    "import pandas as pd\n",
    "import numpy as np\n",
    "df = pd.read_csv(\"../FeatureEgnineering/standard_heartrate.csv\")\n",
    "X = df.drop(\"Heart Attack Risk\", axis = 1)\n",
    "y = df[\"Heart Attack Risk\"]"
   ]
  },
  {
   "cell_type": "code",
   "execution_count": 38,
   "id": "c1d4d74c-fc2d-40b6-917c-e7e61755403f",
   "metadata": {},
   "outputs": [],
   "source": [
    "X.drop(\"Unnamed: 0\", axis = 1, inplace = True)\n",
    "X.Sex = (X.Sex == \"Male\")"
   ]
  },
  {
   "cell_type": "markdown",
   "id": "10ed12da-1638-4abb-b7c0-a0635ea22bff",
   "metadata": {},
   "source": [
    "## This is for train test split"
   ]
  },
  {
   "cell_type": "code",
   "execution_count": 39,
   "id": "612327f7-1cd3-4dbf-a0b5-c791e3ec38ca",
   "metadata": {},
   "outputs": [],
   "source": [
    "from sklearn.model_selection import train_test_split\n",
    "X_train, X_test, y_train, y_test = train_test_split(X, y, test_size=0.2, random_state=42)"
   ]
  },
  {
   "cell_type": "code",
   "execution_count": 40,
   "id": "a0324487-6919-4ed5-ae50-851383dc1eab",
   "metadata": {},
   "outputs": [],
   "source": [
    "# Applying SMOTE\n",
    "from imblearn.over_sampling import SMOTE\n",
    "smote = SMOTE(random_state=42)\n",
    "X_train_resampled, y_train_resampled = smote.fit_resample(X_train, y_train)"
   ]
  },
  {
   "cell_type": "markdown",
   "id": "af6b1bd1-0e12-44e1-8c7b-62b1c4ab79ce",
   "metadata": {},
   "source": [
    "## This is for GBM model"
   ]
  },
  {
   "cell_type": "code",
   "execution_count": 41,
   "id": "638f938d-cade-425f-adbb-ee8dc83797d4",
   "metadata": {},
   "outputs": [
    {
     "name": "stdout",
     "output_type": "stream",
     "text": [
      "Fitting 5 folds for each of 18 candidates, totalling 90 fits\n",
      "[CV 1/5] END learning_rate=0.001, max_depth=3, n_estimators=100;, score=0.429 total time=   1.9s\n",
      "[CV 2/5] END learning_rate=0.001, max_depth=3, n_estimators=100;, score=0.491 total time=   1.9s\n",
      "[CV 3/5] END learning_rate=0.001, max_depth=3, n_estimators=100;, score=0.423 total time=   1.8s\n",
      "[CV 4/5] END learning_rate=0.001, max_depth=3, n_estimators=100;, score=0.620 total time=   1.7s\n",
      "[CV 5/5] END learning_rate=0.001, max_depth=3, n_estimators=100;, score=0.615 total time=   1.7s\n",
      "[CV 1/5] END learning_rate=0.001, max_depth=3, n_estimators=300;, score=0.453 total time=   5.6s\n",
      "[CV 2/5] END learning_rate=0.001, max_depth=3, n_estimators=300;, score=0.402 total time=   5.5s\n",
      "[CV 3/5] END learning_rate=0.001, max_depth=3, n_estimators=300;, score=0.424 total time=   5.4s\n",
      "[CV 4/5] END learning_rate=0.001, max_depth=3, n_estimators=300;, score=0.657 total time=   5.1s\n",
      "[CV 5/5] END learning_rate=0.001, max_depth=3, n_estimators=300;, score=0.693 total time=   5.2s\n",
      "[CV 1/5] END learning_rate=0.001, max_depth=4, n_estimators=100;, score=0.416 total time=   2.5s\n",
      "[CV 2/5] END learning_rate=0.001, max_depth=4, n_estimators=100;, score=0.488 total time=   2.5s\n",
      "[CV 3/5] END learning_rate=0.001, max_depth=4, n_estimators=100;, score=0.430 total time=   2.4s\n",
      "[CV 4/5] END learning_rate=0.001, max_depth=4, n_estimators=100;, score=0.644 total time=   2.3s\n",
      "[CV 5/5] END learning_rate=0.001, max_depth=4, n_estimators=100;, score=0.643 total time=   2.3s\n",
      "[CV 1/5] END learning_rate=0.001, max_depth=4, n_estimators=300;, score=0.444 total time=   7.3s\n",
      "[CV 2/5] END learning_rate=0.001, max_depth=4, n_estimators=300;, score=0.435 total time=   7.3s\n",
      "[CV 3/5] END learning_rate=0.001, max_depth=4, n_estimators=300;, score=0.473 total time=   7.1s\n",
      "[CV 4/5] END learning_rate=0.001, max_depth=4, n_estimators=300;, score=0.684 total time=   6.8s\n",
      "[CV 5/5] END learning_rate=0.001, max_depth=4, n_estimators=300;, score=0.686 total time=   6.8s\n",
      "[CV 1/5] END learning_rate=0.001, max_depth=5, n_estimators=100;, score=0.448 total time=   3.0s\n",
      "[CV 2/5] END learning_rate=0.001, max_depth=5, n_estimators=100;, score=0.407 total time=   3.0s\n",
      "[CV 3/5] END learning_rate=0.001, max_depth=5, n_estimators=100;, score=0.442 total time=   2.9s\n",
      "[CV 4/5] END learning_rate=0.001, max_depth=5, n_estimators=100;, score=0.655 total time=   2.8s\n",
      "[CV 5/5] END learning_rate=0.001, max_depth=5, n_estimators=100;, score=0.687 total time=   2.8s\n",
      "[CV 1/5] END learning_rate=0.001, max_depth=5, n_estimators=300;, score=0.420 total time=   9.0s\n",
      "[CV 2/5] END learning_rate=0.001, max_depth=5, n_estimators=300;, score=0.411 total time=   9.0s\n",
      "[CV 3/5] END learning_rate=0.001, max_depth=5, n_estimators=300;, score=0.455 total time=   8.8s\n",
      "[CV 4/5] END learning_rate=0.001, max_depth=5, n_estimators=300;, score=0.700 total time=   8.4s\n",
      "[CV 5/5] END learning_rate=0.001, max_depth=5, n_estimators=300;, score=0.702 total time=   8.4s\n",
      "[CV 1/5] END learning_rate=0.01, max_depth=3, n_estimators=100;, score=0.406 total time=   1.9s\n",
      "[CV 2/5] END learning_rate=0.01, max_depth=3, n_estimators=100;, score=0.419 total time=   1.9s\n",
      "[CV 3/5] END learning_rate=0.01, max_depth=3, n_estimators=100;, score=0.466 total time=   1.8s\n",
      "[CV 4/5] END learning_rate=0.01, max_depth=3, n_estimators=100;, score=0.737 total time=   1.7s\n",
      "[CV 5/5] END learning_rate=0.01, max_depth=3, n_estimators=100;, score=0.756 total time=   1.7s\n",
      "[CV 1/5] END learning_rate=0.01, max_depth=3, n_estimators=300;, score=0.317 total time=   5.5s\n",
      "[CV 2/5] END learning_rate=0.01, max_depth=3, n_estimators=300;, score=0.359 total time=   5.5s\n",
      "[CV 3/5] END learning_rate=0.01, max_depth=3, n_estimators=300;, score=0.486 total time=   5.5s\n",
      "[CV 4/5] END learning_rate=0.01, max_depth=3, n_estimators=300;, score=0.824 total time=   5.1s\n",
      "[CV 5/5] END learning_rate=0.01, max_depth=3, n_estimators=300;, score=0.834 total time=   5.2s\n",
      "[CV 1/5] END learning_rate=0.01, max_depth=4, n_estimators=100;, score=0.402 total time=   2.4s\n",
      "[CV 2/5] END learning_rate=0.01, max_depth=4, n_estimators=100;, score=0.394 total time=   2.4s\n",
      "[CV 3/5] END learning_rate=0.01, max_depth=4, n_estimators=100;, score=0.476 total time=   2.4s\n",
      "[CV 4/5] END learning_rate=0.01, max_depth=4, n_estimators=100;, score=0.771 total time=   2.3s\n",
      "[CV 5/5] END learning_rate=0.01, max_depth=4, n_estimators=100;, score=0.793 total time=   2.3s\n",
      "[CV 1/5] END learning_rate=0.01, max_depth=4, n_estimators=300;, score=0.286 total time=   7.3s\n",
      "[CV 2/5] END learning_rate=0.01, max_depth=4, n_estimators=300;, score=0.309 total time=   7.3s\n",
      "[CV 3/5] END learning_rate=0.01, max_depth=4, n_estimators=300;, score=0.472 total time=   7.2s\n",
      "[CV 4/5] END learning_rate=0.01, max_depth=4, n_estimators=300;, score=0.847 total time=   6.8s\n",
      "[CV 5/5] END learning_rate=0.01, max_depth=4, n_estimators=300;, score=0.855 total time=   6.8s\n",
      "[CV 1/5] END learning_rate=0.01, max_depth=5, n_estimators=100;, score=0.372 total time=   3.0s\n",
      "[CV 2/5] END learning_rate=0.01, max_depth=5, n_estimators=100;, score=0.381 total time=   3.0s\n",
      "[CV 3/5] END learning_rate=0.01, max_depth=5, n_estimators=100;, score=0.471 total time=   3.0s\n",
      "[CV 4/5] END learning_rate=0.01, max_depth=5, n_estimators=100;, score=0.788 total time=   2.8s\n",
      "[CV 5/5] END learning_rate=0.01, max_depth=5, n_estimators=100;, score=0.800 total time=   2.8s\n",
      "[CV 1/5] END learning_rate=0.01, max_depth=5, n_estimators=300;, score=0.239 total time=   9.0s\n",
      "[CV 2/5] END learning_rate=0.01, max_depth=5, n_estimators=300;, score=0.270 total time=   9.1s\n",
      "[CV 3/5] END learning_rate=0.01, max_depth=5, n_estimators=300;, score=0.461 total time=   8.9s\n",
      "[CV 4/5] END learning_rate=0.01, max_depth=5, n_estimators=300;, score=0.857 total time=   8.4s\n",
      "[CV 5/5] END learning_rate=0.01, max_depth=5, n_estimators=300;, score=0.860 total time=   8.5s\n",
      "[CV 1/5] END learning_rate=0.1, max_depth=3, n_estimators=100;, score=0.184 total time=   1.9s\n",
      "[CV 2/5] END learning_rate=0.1, max_depth=3, n_estimators=100;, score=0.202 total time=   1.9s\n",
      "[CV 3/5] END learning_rate=0.1, max_depth=3, n_estimators=100;, score=0.436 total time=   1.8s\n",
      "[CV 4/5] END learning_rate=0.1, max_depth=3, n_estimators=100;, score=0.871 total time=   1.7s\n",
      "[CV 5/5] END learning_rate=0.1, max_depth=3, n_estimators=100;, score=0.889 total time=   1.7s\n",
      "[CV 1/5] END learning_rate=0.1, max_depth=3, n_estimators=300;, score=0.141 total time=   5.6s\n",
      "[CV 2/5] END learning_rate=0.1, max_depth=3, n_estimators=300;, score=0.166 total time=   5.7s\n",
      "[CV 3/5] END learning_rate=0.1, max_depth=3, n_estimators=300;, score=0.425 total time=   5.5s\n",
      "[CV 4/5] END learning_rate=0.1, max_depth=3, n_estimators=300;, score=0.871 total time=   5.2s\n",
      "[CV 5/5] END learning_rate=0.1, max_depth=3, n_estimators=300;, score=0.884 total time=   5.2s\n",
      "[CV 1/5] END learning_rate=0.1, max_depth=4, n_estimators=100;, score=0.171 total time=   2.5s\n",
      "[CV 2/5] END learning_rate=0.1, max_depth=4, n_estimators=100;, score=0.173 total time=   2.5s\n",
      "[CV 3/5] END learning_rate=0.1, max_depth=4, n_estimators=100;, score=0.440 total time=   2.4s\n",
      "[CV 4/5] END learning_rate=0.1, max_depth=4, n_estimators=100;, score=0.870 total time=   2.3s\n",
      "[CV 5/5] END learning_rate=0.1, max_depth=4, n_estimators=100;, score=0.883 total time=   2.3s\n",
      "[CV 1/5] END learning_rate=0.1, max_depth=4, n_estimators=300;, score=0.203 total time=   7.4s\n",
      "[CV 2/5] END learning_rate=0.1, max_depth=4, n_estimators=300;, score=0.230 total time=   7.4s\n",
      "[CV 3/5] END learning_rate=0.1, max_depth=4, n_estimators=300;, score=0.453 total time=   7.3s\n",
      "[CV 4/5] END learning_rate=0.1, max_depth=4, n_estimators=300;, score=0.871 total time=   6.8s\n",
      "[CV 5/5] END learning_rate=0.1, max_depth=4, n_estimators=300;, score=0.880 total time=   6.8s\n",
      "[CV 1/5] END learning_rate=0.1, max_depth=5, n_estimators=100;, score=0.202 total time=   3.1s\n",
      "[CV 2/5] END learning_rate=0.1, max_depth=5, n_estimators=100;, score=0.187 total time=   3.1s\n",
      "[CV 3/5] END learning_rate=0.1, max_depth=5, n_estimators=100;, score=0.445 total time=   3.0s\n",
      "[CV 4/5] END learning_rate=0.1, max_depth=5, n_estimators=100;, score=0.871 total time=   2.9s\n",
      "[CV 5/5] END learning_rate=0.1, max_depth=5, n_estimators=100;, score=0.881 total time=   2.8s\n",
      "[CV 1/5] END learning_rate=0.1, max_depth=5, n_estimators=300;, score=0.227 total time=   9.2s\n",
      "[CV 2/5] END learning_rate=0.1, max_depth=5, n_estimators=300;, score=0.245 total time=   9.2s\n",
      "[CV 3/5] END learning_rate=0.1, max_depth=5, n_estimators=300;, score=0.472 total time=   9.0s\n",
      "[CV 4/5] END learning_rate=0.1, max_depth=5, n_estimators=300;, score=0.867 total time=   8.5s\n",
      "[CV 5/5] END learning_rate=0.1, max_depth=5, n_estimators=300;, score=0.876 total time=   8.5s\n"
     ]
    }
   ],
   "source": [
    "from sklearn.ensemble import GradientBoostingClassifier\n",
    "from sklearn.model_selection import GridSearchCV, StratifiedKFold\n",
    "from imblearn.over_sampling import SMOTE\n",
    "from imblearn.pipeline import Pipeline as imblearnPipeline\n",
    "np.random.seed(123)\n",
    "\n",
    "# Define the parameter grid\n",
    "param_grid = {\n",
    "    'n_estimators': [100, 300],\n",
    "    'learning_rate': [0.001, 0.01, 0.1],\n",
    "    'max_depth': [3, 4, 5]\n",
    "}\n",
    "\n",
    "# Model and grid search for classification\n",
    "gbm = GradientBoostingClassifier(random_state=42)\n",
    "# Initialize the Grid Search model\n",
    "grid_search = GridSearchCV(gbm,param_grid, cv=5, scoring='accuracy', verbose = 3)\n",
    "grid_search.fit(X_train_resampled, y_train_resampled)\n",
    "\n",
    "best_gbm = grid_search.best_estimator_"
   ]
  },
  {
   "cell_type": "code",
   "execution_count": 42,
   "id": "851f4490-fd40-4b8d-aac0-cfc445b9d9de",
   "metadata": {},
   "outputs": [
    {
     "name": "stdout",
     "output_type": "stream",
     "text": [
      "Best Hyperparameters for GBM: {'learning_rate': 0.01, 'max_depth': 4, 'n_estimators': 100}\n"
     ]
    }
   ],
   "source": [
    "best_hyperparameters = grid_search.best_params_\n",
    "print(\"Best Hyperparameters for GBM:\", best_hyperparameters)"
   ]
  },
  {
   "cell_type": "markdown",
   "id": "214ff585-6794-4adf-af72-2f2151a45b9e",
   "metadata": {},
   "source": [
    "## Model Evaluation of GBM"
   ]
  },
  {
   "cell_type": "code",
   "execution_count": 43,
   "id": "36be4c49-7066-422e-b6cd-3501619d2493",
   "metadata": {},
   "outputs": [
    {
     "name": "stdout",
     "output_type": "stream",
     "text": [
      "Confusion Matrix:\n",
      "[[763 362]\n",
      " [429 199]]\n"
     ]
    },
    {
     "data": {
      "image/png": "[encoded data removed]",
      "text/plain": [
       "<Figure size 640x480 with 2 Axes>"
      ]
     },
     "metadata": {},
     "output_type": "display_data"
    },
    {
     "name": "stdout",
     "output_type": "stream",
     "text": [
      "F1 Score: 0.33473507148864595\n",
      "Accuracy: 0.5487735310895607\n"
     ]
    }
   ],
   "source": [
    "import matplotlib.pyplot as plt\n",
    "from sklearn.metrics import confusion_matrix, f1_score, accuracy_score, ConfusionMatrixDisplay\n",
    "\n",
    "# Predict on the testing set\n",
    "y_pred = best_gbm.predict(X_test)\n",
    "\n",
    "# Evaluate performance\n",
    "conf_matrix = confusion_matrix(y_test, y_pred)\n",
    "f1 = f1_score(y_test, y_pred)\n",
    "accuracy = accuracy_score(y_test, y_pred)\n",
    "\n",
    "# Print the evaluation metrics\n",
    "print(\"Confusion Matrix:\")\n",
    "print(conf_matrix)\n",
    "ConfusionMatrixDisplay(conf_matrix).plot()\n",
    "plt.show()\n",
    "print(f\"F1 Score: {f1}\")\n",
    "print(f\"Accuracy: {accuracy}\")"
   ]
  },
  {
   "cell_type": "code",
   "execution_count": 45,
   "id": "6de3b22c-d90f-4d90-9f61-76659919b52c",
   "metadata": {},
   "outputs": [
    {
     "name": "stdout",
     "output_type": "stream",
     "text": [
      "              precision    recall  f1-score   support\n",
      "\n",
      "           0       0.64      0.68      0.66      1125\n",
      "           1       0.35      0.32      0.33       628\n",
      "\n",
      "    accuracy                           0.55      1753\n",
      "   macro avg       0.50      0.50      0.50      1753\n",
      "weighted avg       0.54      0.55      0.54      1753\n",
      "\n",
      "Accuracy: 0.5487735310895607\n"
     ]
    }
   ],
   "source": [
    "# Evaluate the model\n",
    "from sklearn.metrics import classification_report\n",
    "print(classification_report(y_test, y_pred))\n",
    "print(\"Accuracy:\", accuracy_score(y_test, y_pred))"
   ]
  },
  {
   "cell_type": "markdown",
   "id": "5682dc09-a272-46db-a2bb-4c4bb8711c72",
   "metadata": {},
   "source": [
    "## This is for NN model"
   ]
  },
  {
   "cell_type": "code",
   "execution_count": 54,
   "id": "06423dcc-c424-4718-9e8c-6d0b5b49c46b",
   "metadata": {},
   "outputs": [
    {
     "name": "stdout",
     "output_type": "stream",
     "text": [
      "Layers: [64, 32], LR: 0.1, Avg Accuracy: 0.4885548114776611\n",
      "Layers: [64, 32], LR: 0.01, Avg Accuracy: 0.6171372413635254\n",
      "Layers: [64, 32], LR: 0.001, Avg Accuracy: 0.635699462890625\n",
      "Layers: [32], LR: 0.1, Avg Accuracy: 0.6253609418869018\n",
      "Layers: [32], LR: 0.01, Avg Accuracy: 0.6189157009124756\n",
      "Layers: [32], LR: 0.001, Avg Accuracy: 0.6289196372032165\n",
      "Layers: [16], LR: 0.1, Avg Accuracy: 0.6263610005378724\n",
      "Layers: [16], LR: 0.01, Avg Accuracy: 0.6233623623847961\n",
      "Layers: [16], LR: 0.001, Avg Accuracy: 0.6250266194343567\n",
      "Best Configuration: Layers: [64, 32], Learning Rate: 0.001, Accuracy: 0.635699462890625\n"
     ]
    }
   ],
   "source": [
    "import tensorflow as tf\n",
    "from tensorflow.keras.models import Sequential\n",
    "from tensorflow.keras.layers import Dense\n",
    "from tensorflow.keras.optimizers.legacy import Adam\n",
    "from sklearn.model_selection import KFold\n",
    "from sklearn.preprocessing import StandardScaler\n",
    "\n",
    "layer_configs = [\n",
    "    [64, 32], \n",
    "    [32],\n",
    "    [16]\n",
    "]\n",
    "learning_rates = [0.1, 0.01, 0.001]\n",
    "\n",
    "# Prepare cross-validation\n",
    "kf = KFold(n_splits=5, shuffle=True, random_state=42)\n",
    "\n",
    "# Function to create a model given a layer configuration\n",
    "def create_model(layers):\n",
    "    model = Sequential()\n",
    "    model.add(Dense(layers[0], activation='relu', input_shape=(X_train_resampled.shape[1],)))\n",
    "    for nodes in layers[1:]:\n",
    "        model.add(Dense(nodes, activation='relu'))\n",
    "    model.add(Dense(1, activation='sigmoid')) \n",
    "    return model\n",
    "\n",
    "# Iterate over configurations and cross-validate\n",
    "best_score = 0\n",
    "best_config = None\n",
    "\n",
    "for layers in layer_configs:\n",
    "    for lr in learning_rates:\n",
    "        scores = []\n",
    "        for train_index, val_index in kf.split(X_train_resampled):\n",
    "            X_train_fold, X_val_fold = X_train_resampled.iloc[train_index], X_train_resampled.iloc[val_index]\n",
    "            y_train_fold, y_val_fold = y_train_resampled.iloc[train_index], y_train_resampled.iloc[val_index]\n",
    "            \n",
    "            # Convert to tensors\n",
    "            X_train_fold = tf.convert_to_tensor(X_train_fold, dtype=tf.float32)\n",
    "            X_val_fold = tf.convert_to_tensor(X_val_fold, dtype=tf.float32)\n",
    "            y_train_fold = tf.convert_to_tensor(y_train_fold, dtype=tf.float32)\n",
    "            y_val_fold = tf.convert_to_tensor(y_val_fold, dtype=tf.float32)\n",
    "            \n",
    "            # Create and compile model\n",
    "            model = create_model(layers)\n",
    "            model.compile(optimizer=Adam(learning_rate=lr), loss='binary_crossentropy', metrics=['accuracy'])\n",
    "            \n",
    "            # Train model on the oversampled dataset\n",
    "            model.fit(X_train_fold, y_train_fold, epochs=100, verbose=0, validation_data=(X_val_fold, y_val_fold))\n",
    "            \n",
    "            # Evaluate model on the original validation set\n",
    "            _, score = model.evaluate(X_val_fold, y_val_fold, verbose=0)\n",
    "            scores.append(score)\n",
    "        \n",
    "        # Average score for this configuration\n",
    "        avg_score = np.mean(scores)\n",
    "        print(f\"Layers: {layers}, LR: {lr}, Avg Accuracy: {avg_score}\")\n",
    "        \n",
    "        if avg_score > best_score:\n",
    "            best_score = avg_score\n",
    "            best_config = (layers, lr)\n",
    "\n",
    "print(f\"Best Configuration: Layers: {best_config[0]}, Learning Rate: {best_config[1]}, Accuracy: {best_score}\")"
   ]
  },
  {
   "cell_type": "markdown",
   "id": "9d945fb0-e7c0-42be-9e12-6cbd3615bfe0",
   "metadata": {},
   "source": [
    "## Model Validation for NN"
   ]
  },
  {
   "cell_type": "code",
   "execution_count": 55,
   "id": "0c2530e7-eb78-4d9d-a696-67ab3d55ad3c",
   "metadata": {},
   "outputs": [
    {
     "name": "stdout",
     "output_type": "stream",
     "text": [
      "55/55 [==============================] - 0s 402us/step\n",
      "Neural Network Model Accuracy: 0.5510553337136338\n"
     ]
    }
   ],
   "source": [
    "model = create_model([64, 32])\n",
    "X_train = tf.convert_to_tensor(X_train, dtype=tf.float32)\n",
    "y_train = tf.convert_to_tensor(y_train, dtype=tf.float32)\n",
    "X_test = tf.convert_to_tensor(X_test, dtype=tf.float32)\n",
    "model.compile(optimizer=Adam(learning_rate=0.001), loss='binary_crossentropy', metrics=['accuracy'])\n",
    "\n",
    "model.fit(X_train, y_train, epochs=100, verbose=0)\n",
    "nn_predictions = model.predict(X_test)\n",
    "nn_predictions = nn_predictions > 0.5\n",
    "nn_accuracy = accuracy_score(np.array(y_test), nn_predictions)\n",
    "print(f\"Neural Network Model Accuracy: {nn_accuracy}\")"
   ]
  },
  {
   "cell_type": "code",
   "execution_count": 56,
   "id": "5aa26b24-e4c4-4c07-b0bc-0f00557ac36c",
   "metadata": {},
   "outputs": [
    {
     "name": "stdout",
     "output_type": "stream",
     "text": [
      "Confusion Matrix:\n",
      "[[738 387]\n",
      " [400 228]]\n"
     ]
    },
    {
     "data": {
      "image/png": "[encoded data removed]",
      "text/plain": [
       "<Figure size 640x480 with 2 Axes>"
      ]
     },
     "metadata": {},
     "output_type": "display_data"
    },
    {
     "name": "stdout",
     "output_type": "stream",
     "text": [
      "F1 Score: 0.36685438455349956\n",
      "Accuracy: 0.5510553337136338\n"
     ]
    }
   ],
   "source": [
    "import matplotlib.pyplot as plt\n",
    "from sklearn.metrics import confusion_matrix, f1_score, accuracy_score, ConfusionMatrixDisplay\n",
    "\n",
    "# Evaluate performance\n",
    "conf_matrix = confusion_matrix(y_test, nn_predictions)\n",
    "f1 = f1_score(y_test, nn_predictions)\n",
    "accuracy = accuracy_score(y_test, nn_predictions)\n",
    "\n",
    "# Print the evaluation metrics\n",
    "print(\"Confusion Matrix:\")\n",
    "print(conf_matrix)\n",
    "ConfusionMatrixDisplay(conf_matrix).plot()\n",
    "plt.show()\n",
    "print(f\"F1 Score: {f1}\")\n",
    "print(f\"Accuracy: {accuracy}\")"
   ]
  },
  {
   "cell_type": "code",
   "execution_count": 58,
   "id": "7178b89b-6e35-4aad-befb-049e874e6050",
   "metadata": {},
   "outputs": [
    {
     "name": "stdout",
     "output_type": "stream",
     "text": [
      "              precision    recall  f1-score   support\n",
      "\n",
      "           0       0.65      0.66      0.65      1125\n",
      "           1       0.37      0.36      0.37       628\n",
      "\n",
      "    accuracy                           0.55      1753\n",
      "   macro avg       0.51      0.51      0.51      1753\n",
      "weighted avg       0.55      0.55      0.55      1753\n",
      "\n"
     ]
    }
   ],
   "source": [
    "# Evaluate the model\n",
    "from sklearn.metrics import classification_report\n",
    "print(classification_report(y_test, nn_predictions))"
   ]
  },
  {
   "cell_type": "code",
   "execution_count": null,
   "id": "f2c4c54d-d888-4080-9346-62718b4ffc04",
   "metadata": {},
   "outputs": [],
   "source": []
  }
 ],
 "metadata": {
  "kernelspec": {
   "display_name": "Python 3 (ipykernel)",
   "language": "python",
   "name": "python3"
  },
  "language_info": {
   "codemirror_mode": {
    "name": "ipython",
    "version": 3
   },
   "file_extension": ".py",
   "mimetype": "text/x-python",
   "name": "python",
   "nbconvert_exporter": "python",
   "pygments_lexer": "ipython3",
   "version": "3.11.6"
  }
 },
 "nbformat": 4,
 "nbformat_minor": 5
}
